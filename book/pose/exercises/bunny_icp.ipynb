{
 "cells": [
  {
   "cell_type": "markdown",
   "metadata": {
    "cell_id": "ecb2527c971d471fbcbc917ecf72b7e4",
    "colab_type": "text",
    "deepnote_cell_type": "markdown",
    "id": "OE4xjKWgtIX2"
   },
   "source": [
    "# Bunny ICP\n",
    "\n",
    "In the lecture, we learned about the Iterative Closest Point (ICP) algorithm. In this exercise, you will implement the ICP algorithm to solve the standard Stanford Bunny problem!\n",
    "\n",
    "**Learning Objectives**\n",
    "- Understand and Implement the ICP algorithm\n",
    "\n",
    "**What You'll Implement**\n",
    "- The ```least_squares_transform``` function to optimize transformation given correspondence\n",
    "- The ```icp``` algorithm.\n"
   ]
  },
  {
   "cell_type": "markdown",
   "metadata": {
    "cell_id": "457d6373a8304d72a847e6576a8a9310",
    "deepnote_cell_type": "markdown"
   },
   "source": [
    "## Setup and Imports\n",
    "\n",
    "Let us first import our standard drake functionality"
   ]
  },
  {
   "cell_type": "code",
   "execution_count": null,
   "metadata": {
    "cell_id": "613b809732fd4042a79a4d34054d55a0",
    "colab": {},
    "colab_type": "code",
    "deepnote_cell_type": "code",
    "execution_context_id": "434de4e9-847f-45fb-b300-b86eb7a3f093",
    "execution_millis": 87,
    "execution_start": 1757693228151,
    "id": "KdXAerwV13rQ",
    "lines_to_end_of_cell_marker": 2,
    "source_hash": "8576cbed"
   },
   "outputs": [],
   "source": [
    "import numpy as np\n",
    "from pydrake.all import PointCloud, Rgba, RigidTransform, RotationMatrix, StartMeshcat\n",
    "from scipy.spatial import KDTree\n",
    "\n",
    "from manipulation import FindResource\n",
    "from manipulation.exercises.grader import Grader\n",
    "from manipulation.exercises.pose.test_icp import TestICP"
   ]
  },
  {
   "cell_type": "code",
   "execution_count": null,
   "metadata": {
    "cell_id": "cefca4bc09c14b528ec1e8800fc5e90a",
    "deepnote_cell_type": "code",
    "execution_context_id": "434de4e9-847f-45fb-b300-b86eb7a3f093",
    "execution_millis": 60,
    "execution_start": 1757693231611,
    "source_hash": "6d42057f"
   },
   "outputs": [],
   "source": [
    "# Start the visualizer.\n",
    "meshcat = StartMeshcat()"
   ]
  },
  {
   "cell_type": "markdown",
   "metadata": {
    "cell_id": "40192af2d6b44943b3dcbccf330c90a5",
    "colab_type": "text",
    "deepnote_cell_type": "markdown",
    "id": "jigwRNW7tIYQ"
   },
   "source": [
    "Let's first visualize the point clouds of Stanford bunny in meshcat!"
   ]
  },
  {
   "cell_type": "code",
   "execution_count": null,
   "metadata": {
    "cell_id": "1d69091d16704642a0e067deca3c6a85",
    "colab": {
     "base_uri": "https://localhost:8080/",
     "height": 51
    },
    "colab_type": "code",
    "deepnote_cell_type": "code",
    "execution_context_id": "e282647c-d07c-4ac8-87ba-c59056842ee4",
    "execution_millis": 1,
    "execution_start": 1757384568406,
    "id": "VnQvdI6nOl4d",
    "outputId": "866d6e69-d188-4669-8b01-825d8e616b0d",
    "source_hash": "48bcfb48"
   },
   "outputs": [],
   "source": [
    "# Visualize Stanford Bunny\n",
    "xyzs = np.load(FindResource(\"models/bunny/bunny.npy\"))\n",
    "cloud = PointCloud(xyzs.shape[1])\n",
    "cloud.mutable_xyzs()[:] = xyzs\n",
    "\n",
    "# Pose for the blue bunny\n",
    "X_blue = RigidTransform(RotationMatrix.MakeXRotation(np.pi / 6), [-0.1, 0.1, 0.1])\n",
    "\n",
    "pointcloud_model = xyzs\n",
    "pointcloud_scene = X_blue.multiply(xyzs)\n",
    "\n",
    "meshcat.Delete()\n",
    "meshcat.SetProperty(\"/Background\", \"visible\", False)\n",
    "meshcat.SetProperty(\"/Cameras/default/rotated/<object>\", \"zoom\", 10.5)\n",
    "meshcat.SetObject(\"red_bunny\", cloud, point_size=0.01, rgba=Rgba(1.0, 0, 0))\n",
    "meshcat.SetTransform(\"red_bunny\", RigidTransform())\n",
    "meshcat.SetObject(\"blue_bunny\", cloud, point_size=0.01, rgba=Rgba(0, 0, 1.0))\n",
    "meshcat.SetTransform(\"blue_bunny\", X_blue)"
   ]
  },
  {
   "cell_type": "markdown",
   "metadata": {
    "cell_id": "2b1745f1bbc1432098312c03c02f79f8",
    "colab_type": "text",
    "deepnote_cell_type": "markdown",
    "id": "abo92_2stIYW"
   },
   "source": [
    "## Part 1: Point cloud registration with known correspondences\n",
    "\n",
    "In this section, you will follow the [derivation](http://manipulation.csail.mit.edu/pose.html#registration) to solve the optimization problem below.\n",
    "\n",
    "$$\\begin{aligned} \\min_{p\\in\\mathbb{R}^3,R\\in\\mathbb{R}^{3\\times3}} \\quad & \\sum_{i=1}^{N_s} \\| p + R \\hspace{.1cm} {^Op^{m_{c_i}}} - p^{s_i}\\|^2, \\\\ s.t. \\quad & RR^T = I, \\quad \\det(R)=1\\end{aligned}$$\n",
    "\n",
    "The goal is to find the transform that registers the point clouds of the model and the scene, assuming the correspondence is known.  You may refer to the implementation from [deepnote](https://github.com/RussTedrake/manipulation/blob/master/book/pose/icp.ipynb) and the explanation from [textbook](http://manipulation.csail.mit.edu/pose.html#icp).\n",
    "\n",
    "**YOUR TASK**: In the cell below, implement the ```least_squares_transform``` nethod."
   ]
  },
  {
   "cell_type": "code",
   "execution_count": null,
   "metadata": {
    "cell_id": "de4e54fbeaa64fa59dc0374aed4901d6",
    "colab": {},
    "colab_type": "code",
    "deepnote_cell_type": "code",
    "execution_context_id": "e282647c-d07c-4ac8-87ba-c59056842ee4",
    "execution_millis": 1,
    "execution_start": 1757384797279,
    "id": "ll_FlqVotIYX",
    "source_hash": "54b45463"
   },
   "outputs": [],
   "source": [
    "def least_squares_transform(scene, model) -> RigidTransform:\n",
    "    \"\"\"\n",
    "    Calculates the least-squares best-fit transform that maps corresponding\n",
    "    points scene to model.\n",
    "    Args:\n",
    "      scene: 3xN numpy array of corresponding points\n",
    "      model: 3xM numpy array of corresponding points\n",
    "    Returns:\n",
    "      X_BA: A RigidTransform object that maps point_cloud_A on to point_cloud_B\n",
    "            such that\n",
    "                        X_BA.multiply(model) ~= scene,\n",
    "    \"\"\"\n",
    "    X_BA = RigidTransform()\n",
    "\n",
    "    # TODO: Implement this function.\n",
    "\n",
    "    return X_BA"
   ]
  },
  {
   "cell_type": "markdown",
   "metadata": {
    "cell_id": "5a037f90739e445196d93f8168295814",
    "colab_type": "text",
    "deepnote_cell_type": "markdown",
    "id": "IejlqJ3vtIYg"
   },
   "source": [
    "## Part 2: Point correspondence from closest point\n",
    "The ```least_squares_transform``` function assumes that the point correspondence is known. Unfortunately, this is often not the case, so we will have to estimate the point correspondence as well. A common heuristics for estimating point correspondence is the closest point/nearest neighbor.\n",
    "\n",
    "We have implemented the closest neighbors using [scipy's implementation](https://docs.scipy.org/doc/scipy/reference/generated/scipy.spatial.KDTree.html) of [k-d trees](https://en.wikipedia.org/wiki/K-d_tree)."
   ]
  },
  {
   "cell_type": "code",
   "execution_count": null,
   "metadata": {
    "cell_id": "e2c7f58a62d24ea19a5d73f0e14d55e7",
    "colab": {},
    "colab_type": "code",
    "deepnote_cell_type": "code",
    "execution_context_id": "e282647c-d07c-4ac8-87ba-c59056842ee4",
    "execution_millis": 1,
    "execution_start": 1757385069046,
    "id": "_-bGj1a1OkbU",
    "source_hash": "9d1c9305"
   },
   "outputs": [],
   "source": [
    "def nearest_neighbors(scene, model):\n",
    "    \"\"\"\n",
    "    Find the nearest (Euclidean) neighbor in model for each\n",
    "    point in scene\n",
    "    Args:\n",
    "        scene: 3xN numpy array of points\n",
    "        model: 3xM numpy array of points\n",
    "    Returns:\n",
    "        distances: (N, ) numpy array of Euclidean distances from each point in\n",
    "            scene to its nearest neighbor in model.\n",
    "        indices: (N, ) numpy array of the indices in model of each\n",
    "            scene point's nearest neighbor - these are the c_i's\n",
    "    \"\"\"\n",
    "    kdtree = KDTree(model.T)\n",
    "\n",
    "    distances, indices = kdtree.query(scene.T, k=1)\n",
    "\n",
    "    return distances.flatten(), indices.flatten()"
   ]
  },
  {
   "cell_type": "markdown",
   "metadata": {
    "cell_id": "24e3e05c2c4246e09ec14b8fadf49ae6",
    "colab_type": "text",
    "deepnote_cell_type": "markdown",
    "id": "KtvN0kBntIYo"
   },
   "source": [
    "## Part 3: Iterative Closest Point (ICP)\n",
    "Now you should be able to register two point clouds iteratively by first finding/updating the estimate of point correspondence with ```nearest_neighbors``` and then computing the transform using ```least_squares_transform```. You may refer to the explanation from [textbook](http://manipulation.csail.mit.edu/pose.html#icp).\n",
    "\n",
    "**YOUR TASK**: In the cell below, complete the implementation of ICP algorithm using the  ```nearest_neighbors``` and ```least_squares_transform``` methods from above."
   ]
  },
  {
   "cell_type": "code",
   "execution_count": null,
   "metadata": {
    "cell_id": "7723989ee8fa4366b8ab40ec9620df25",
    "colab": {},
    "colab_type": "code",
    "deepnote_cell_type": "code",
    "execution_context_id": "0c1f6f4d-ad98-4a32-b8df-d0c119c27908",
    "execution_millis": 2,
    "execution_start": 1757371912653,
    "id": "wETDMjk4tIYp",
    "source_hash": "4a15bc9e"
   },
   "outputs": [],
   "source": [
    "def icp(scene, model, max_iterations=20, tolerance=1e-3):\n",
    "    \"\"\"\n",
    "    Perform ICP to return the correct relative transform between two set of points.\n",
    "    Args:\n",
    "        scene: 3xN numpy array of points\n",
    "        model: 3xM numpy array of points\n",
    "        max_iterations: max amount of iterations the algorithm can perform.\n",
    "        tolerance: tolerance before the algorithm converges.\n",
    "    Returns:\n",
    "      X_BA: A RigidTransform object that maps point_cloud_A on to point_cloud_B\n",
    "            such that\n",
    "                        X_BA.multiply(model) ~= scene,\n",
    "      mean_error: Mean of all pairwise distances.\n",
    "      num_iters: Number of iterations it took the ICP to converge.\n",
    "    \"\"\"\n",
    "    X_BA = RigidTransform()\n",
    "\n",
    "    mean_error = 0\n",
    "    num_iters = 0\n",
    "    prev_error = 0\n",
    "\n",
    "    while True:\n",
    "        num_iters += 1\n",
    "\n",
    "        # TODO: Implement this function\n",
    "\n",
    "        mean_error = np.inf  # TODO: Modify to add mean error.\n",
    "        #############\n",
    "\n",
    "        if abs(mean_error - prev_error) < tolerance or num_iters >= max_iterations:\n",
    "            break\n",
    "\n",
    "        prev_error = mean_error\n",
    "\n",
    "        meshcat.SetTransform(\"red_bunny\", X_BA)\n",
    "\n",
    "    return X_BA, mean_error, num_iters"
   ]
  },
  {
   "cell_type": "markdown",
   "metadata": {
    "cell_id": "5ff9ebf57b9c428ca1d50bbc896ab478",
    "colab_type": "text",
    "deepnote_cell_type": "markdown",
    "id": "WChfoIVWtIYy"
   },
   "source": [
    "Now you should be able to visualize the registration of the Stanford bunny! Have fun!"
   ]
  },
  {
   "cell_type": "code",
   "execution_count": null,
   "metadata": {
    "cell_id": "1cef0bcc672744ae97e4d6c208bfa023",
    "colab": {},
    "colab_type": "code",
    "deepnote_cell_type": "code",
    "execution_context_id": "e282647c-d07c-4ac8-87ba-c59056842ee4",
    "execution_millis": 495,
    "execution_start": 1757385611483,
    "id": "P8oIuMsCDMJM",
    "source_hash": "db48feff"
   },
   "outputs": [],
   "source": [
    "icp(pointcloud_scene, pointcloud_model, max_iterations=30, tolerance=1e-5)"
   ]
  },
  {
   "cell_type": "markdown",
   "metadata": {
    "cell_id": "ddba292cd90a4e61a26f4dd5ab6fcf38",
    "deepnote_cell_type": "markdown"
   },
   "source": [
    "You may use the grader below to check your implementations"
   ]
  },
  {
   "cell_type": "code",
   "execution_count": null,
   "metadata": {
    "cell_id": "76e8f1f56d74478387572f3201f17804",
    "deepnote_cell_type": "code"
   },
   "outputs": [],
   "source": [
    "Grader.grade_output([TestICP], [locals()], \"results.json\")\n",
    "Grader.print_test_results(\"results.json\")"
   ]
  },
  {
   "cell_type": "markdown",
   "metadata": {
    "cell_id": "17efc9db0617468b818ea0e0d5447225",
    "colab_type": "text",
    "deepnote_cell_type": "markdown",
    "id": "ucRnypactIY2"
   },
   "source": [
    "## VERIFICATION IN GRADESCOPE\n",
    "\n",
    "**Prerequisites:** You must complete ALL the TODOs above before these verification exercises will work!\n",
    "\n",
    "**Instructions:** Complete the exercises that follow and upload your solutions to Gradescope\n"
   ]
  },
  {
   "cell_type": "markdown",
   "metadata": {
    "cell_id": "0ffff5c4860a4a2bb17f5f771e67a5c2",
    "deepnote_cell_type": "markdown"
   },
   "source": [
    "## Verification 1: Least Squares Transforms\n",
    "\n",
    "**Question:** What does the `X_BA` rotation matrix returned from ICP above correspond to? Select the appropraite answer in Gradescope.\n",
    "\n",
    "A. A +60\u00b0 rotation about the z-axis \n",
    "B. A +30\u00b0 rotation about the y-axis \n",
    "C. A -30\u00b0 rotation about the x-axis \n",
    "D. A +30\u00b0 rotation about the x-axis\n",
    "\n",
    "**HINT**: Use the `RotationMatrix.MakeX/Y/ZRotation()` methods to create rotation matrices. "
   ]
  },
  {
   "cell_type": "markdown",
   "metadata": {
    "cell_id": "8a9dfdde1e0d470dbf679c3dc4ef9dc9",
    "deepnote_cell_type": "markdown"
   },
   "source": [
    "## Verification 2: ICP Iterations\n",
    "\n",
    "**Question** How many iterations does it take for the ICP algorithm to converge? Select the appropriate answer in Gradescope.\n",
    "\n",
    "A. 0-20 iteratoins\n",
    "B. 20-40 iterations\n",
    "C. 40-60 iterations\n",
    "D. 60-80 iterations\n"
   ]
  },
  {
   "cell_type": "markdown",
   "metadata": {
    "created_in_deepnote_cell": true,
    "deepnote_cell_type": "markdown"
   },
   "source": [
    "<a style='text-decoration:none;line-height:16px;display:flex;color:#5B5B62;padding:10px;justify-content:end;' href='https://deepnote.com?utm_source=created-in-deepnote-cell&projectId=7fc752ad-6fef-49c6-b471-33f775b3eee1' target=\"_blank\">\n",
    "<img alt='Created in deepnote.com' style='display:inline;max-height:16px;margin:0px;margin-right:7.5px;' src='data:image/svg+xml;base64,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' > </img>\n",
    "Created in <span style='font-weight:600;margin-left:4px;'>Deepnote</span></a>"
   ]
  }
 ],
 "metadata": {
  "deepnote_notebook_id": "27c7b828e87c49cea67f7ed555d14e48",
  "language_info": {
   "name": "python"
  }
 },
 "nbformat": 4,
 "nbformat_minor": 0
}