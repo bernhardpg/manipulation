{
 "cells": [
  {
   "cell_type": "markdown",
   "metadata": {
    "id": "ERSps3-ac4Po",
    "colab_type": "text",
    "cell_id": "411c3cc5d0e245c6bc3f453dc3ea3076",
    "deepnote_cell_type": "markdown"
   },
   "source": "# Introduction to QP\n\n**Learning Objectives**\n- Understand the basics of Drake's MathematicalProgram\n- Learn how to formulate and solve a quadratic program (QP) in Drake\n\n**What You'll Implement**\n- Solving a simple QP in Drake",
   "block_group": "c7ceb45b3ab94868ba15aff359d6c2ec"
  },
  {
   "cell_type": "markdown",
   "metadata": {
    "cell_id": "ba4f9f0b586e4b37a139ea2d2bfb3142",
    "deepnote_cell_type": "markdown"
   },
   "source": "## Setup and Imports\n\nLet us first import our Mathematical Programming tools frome Drake",
   "block_group": "ac76b499bfc0408baa5478d21d0da121"
  },
  {
   "cell_type": "code",
   "metadata": {
    "id": "tFMmTfbHWQfh",
    "colab": {},
    "colab_type": "code",
    "source_hash": "aa8d84ec",
    "execution_start": 1757697596591,
    "execution_millis": 561,
    "execution_context_id": "a3b59e1f-70b5-43ee-8fc6-fb9e25d4ab16",
    "cell_id": "1a7807483fd9421cae36fbca7845b385",
    "deepnote_cell_type": "code"
   },
   "source": "# python libraries\nimport numpy as np\nfrom pydrake.all import MathematicalProgram, Solve, eq, ge, le",
   "block_group": "238a0f64c2bd4ca0b129b162edfc90ce",
   "execution_count": 1,
   "outputs": [],
   "outputs_reference": null,
   "content_dependencies": null
  },
  {
   "cell_type": "markdown",
   "metadata": {
    "id": "ze9gQeOVOJUA",
    "colab_type": "text",
    "cell_id": "1e54d3ce37e04225829c02a3419dc6a3",
    "deepnote_cell_type": "markdown"
   },
   "source": "## Part 1: Introduction to MathematicalProgram \n\nThe purpose of this exercise is to get you familiar with the basics of what an instance of an optimization problem is, as well as how to solve it. \n\nAn optimization problem is usually written as \n\n$$\\begin{aligned} \\min_x \\quad & f(x) \\\\ \\textrm{s.t.} \\quad & g(x)\\leq 0,\\\\ \\quad &  h(x)=0 \\end{aligned}$$\n\nWe call $x$ the **decision variable**, $f(x)$ the **cost function**, $g(x)\\leq 0$ an **inequality constraint**, and $h(x)=0$ an **equality constraint**. We usually denote the optimal solution by $x^*$. Most of the times, the constraints are hard-constraints, meaning that they must be fulfilled by the optimal solution. \n\nDrake offers a very good interface to many solvers using `MathematicalProgram`. Let's try to solve a simple problem using `MathematicalProgram`: \n\n$$\\begin{aligned} \\min_x \\quad & \\frac{1}{2}x^2 \\\\ \\textrm{s.t.} \\quad & x\\geq 3 \\end{aligned}$$\n\nBefore we start coding, what do you expect the answer to be? You should persuade yourself that the optimal solution is $x^*=3$, since that is value at which minimum cost is achieved without violating the constraint.\n\n",
   "block_group": "99f1a385543a47b2ab0e64c255d121be"
  },
  {
   "cell_type": "code",
   "metadata": {
    "id": "Khi7GeVNcwtU",
    "colab": {},
    "colab_type": "code",
    "source_hash": "97b5f0f",
    "execution_start": 1757697597211,
    "execution_millis": 1,
    "execution_context_id": "a3b59e1f-70b5-43ee-8fc6-fb9e25d4ab16",
    "cell_id": "c4e13d0ba30746ed8bcf54651b895eda",
    "deepnote_cell_type": "code"
   },
   "source": "\"\"\"\nSteps to solve a optimization problem using Drake's MathematicalProgram\n\"\"\"\n\n# 1. Define an instance of MathematicalProgram\nprog = MathematicalProgram()\n\n# 2. Add decision varaibles\nx = prog.NewContinuousVariables(1)\n\n# 3. Add Cost function\nprog.AddCost(x.dot(x))\n\n# 4. Add Constraints\nprog.AddConstraint(x[0] >= 3)\n\n# 5. Solve the problem\nresult = Solve(prog)\n\n# 6. Get the solution\nif result.is_success():\n    print(\"Solution: \" + str(result.GetSolution()))",
   "block_group": "788ce9a9a27a424b9ab33c6035ebca97",
   "execution_count": 2,
   "outputs": [
    {
     "name": "stdout",
     "text": "Solution: [3.]\n",
     "output_type": "stream"
    }
   ],
   "outputs_reference": "dbtable:cell_outputs/90bd0e50-2b49-4e3d-8c1c-7a0211056bb8",
   "content_dependencies": null
  },
  {
   "cell_type": "markdown",
   "metadata": {
    "id": "HvEI7697UUZC",
    "colab_type": "text",
    "cell_id": "6b4d39ed004b4a499f35a3cbc36802ea",
    "deepnote_cell_type": "markdown"
   },
   "source": "You should have seen that we were successful in getting the expected solution of $x^*=3$. \n\nA particular class of problems that we want to focus on this problem are [Quadratic Programs (QP)](https://en.wikipedia.org/wiki/Quadratic_programming), which can be solved very efficiently in practice (even on the order of kHz).\n\nThe general formulation of these problems are defined as follows. \n\n$$\\begin{aligned} \\min_x \\quad & \\frac{1}{2}x^T\\mathbf{Q}x + c^Tx \\\\ \\textrm{s.t.} \\quad & \\mathbf{A}x\\leq b,\\\\ \\quad &  \\mathbf{A}'x=b' \\end{aligned}$$\n\nwhere $\\mathbf{Q}$ is a positive-definite, symmetric matrix. Note that the cost is a quadratic function of the decision variables, while the constraints are all linear. This is what defines a convex QP. \n\nLet's practice solving a simple QP: \n\n$$\\begin{aligned} \\min_{x_0,x_1,x_2} \\quad & x_0^2 + x_1^2 + x_2^2 \\\\ \\textrm{s.t.} \\quad & \\begin{pmatrix} 2 & 3 & 1 \\\\ 5 & 1 & 0 \\end{pmatrix} \\begin{pmatrix} x_0 \\\\ x_1 \\\\ x_2 \\end{pmatrix} = \\begin{pmatrix} 1 \\\\ 1 \\end{pmatrix}\\\\  \\quad &  \\begin{pmatrix} x_0 \\\\ x_1 \\\\ x_2 \\end{pmatrix} \\leq \\begin{pmatrix} 2 \\\\ 2 \\\\ 2\\end{pmatrix} \\end{aligned}$$\n\nTo conveniently write down constraints that are vector-valued, Drake offers `eq,le,ge` for elementwise constraints. It might take some time to learn the syntax of constraints. For a more well-written and in-depth introduction to `MathematicalProgram`, [this notebook tutorial](https://deepnote.com/workspace/Drake-0b3b2c53-a7ad-441b-80f8-bf8350752305/project/Tutorials-2b4fc509-aef2-417d-a40d-6071dfed9199/notebook/mathematical_program-4c4f4de7d5d3452daacf45c20b315d31) is incredibly useful. \n \n",
   "block_group": "832a46cbf52a401eb83df46d21679f7d"
  },
  {
   "cell_type": "code",
   "metadata": {
    "id": "SNvpjgzxVQJC",
    "colab": {},
    "colab_type": "code",
    "source_hash": "4aae9fc3",
    "execution_start": 1757697597271,
    "execution_millis": 1,
    "execution_context_id": "a3b59e1f-70b5-43ee-8fc6-fb9e25d4ab16",
    "cell_id": "d97cb6070f5646ab86ca767203e5ff3f",
    "deepnote_cell_type": "code"
   },
   "source": "prog = MathematicalProgram()\n\nx = prog.NewContinuousVariables(3)\n\nprog.AddCost(x.dot(x))\nprog.AddConstraint(eq(np.array([[2, 3, 1], [5, 1, 0]]).dot(x), [1, 1]))\nprog.AddConstraint(le(x, 2 * np.ones(3)))\n\nresult = Solve(prog)\n\n# 6. Get the solution\nif result.is_success():\n    print(\"Solution: \" + str(result.GetSolution()))",
   "block_group": "8af6bcb5dbf848178c750e0747776d41",
   "execution_count": 3,
   "outputs": [
    {
     "name": "stdout",
     "text": "Solution: [0.15897436 0.20512821 0.06666667]\n",
     "output_type": "stream"
    }
   ],
   "outputs_reference": "dbtable:cell_outputs/6ea8e171-dcfc-468e-8f89-a214eba49a7f",
   "content_dependencies": null
  },
  {
   "cell_type": "markdown",
   "metadata": {
    "id": "SmYZWSewSwf6",
    "colab_type": "text",
    "cell_id": "557704c577d44d28bb784f98b6eeb902",
    "deepnote_cell_type": "markdown"
   },
   "source": "\n## Part 2: Your Turn! \n\n**YOUR TASK**: You must solve the following problem and store the result in a variable named `result_submission`. \n\n$$\\begin{aligned} \\min_{x_0,x_1,x_2} \\quad & 2x_0^2 + x_1^2 + 4x_2^2 \\\\ \\textrm{s.t.} \\quad & \\begin{pmatrix} 1 & 2 & 3 \\\\ 2 & 7 & 4 \\end{pmatrix} \\begin{pmatrix} x_0 \\\\ x_1  \\\\ x_2 \\end{pmatrix} = \\begin{pmatrix} 1 \\\\ 1 \\end{pmatrix} \\\\ \\quad &  |x| \\leq \\begin{pmatrix} 0.35 \\\\ 0.35 \\\\ 0.35\\end{pmatrix} \\end{aligned}$$\n\nNOTE: The last constraint says that the absolute value of `x[i]` must be less than the value of `b_bb[i]`. You cannot put an absolute value directly as a constraint, so there are two routes that you can take:\n- Break the constraints down to two constraints that don't involve the absolute value.  \n- Drake offers [`AddBoundingBoxConstraint`](https://drake.mit.edu/pydrake/pydrake.solvers.html?highlight=addboundingboxconstraint#pydrake.solvers.MathematicalProgram.AddBoundingBoxConstraint) which you may use in your implementation.",
   "block_group": "0c17d4e99688401ca2a7511f906ad09b"
  },
  {
   "cell_type": "code",
   "metadata": {
    "id": "qhMB4kc3asCE",
    "colab": {},
    "colab_type": "code",
    "source_hash": "6c6828f9",
    "execution_start": 1757697597331,
    "execution_millis": 0,
    "execution_context_id": "a3b59e1f-70b5-43ee-8fc6-fb9e25d4ab16",
    "cell_id": "bd125557c77344dca2f401593976ebe3",
    "deepnote_cell_type": "code"
   },
   "source": "prog = MathematicalProgram()\n\n# TODO: Implement the program here\n\nresult_submission = None  # store the result here.",
   "block_group": "80f73f11f56144d69379fe339123ab91",
   "execution_count": 4,
   "outputs": [],
   "outputs_reference": null,
   "content_dependencies": null
  },
  {
   "cell_type": "code",
   "metadata": {
    "source_hash": "bd849ba7",
    "execution_start": 1757697597381,
    "execution_millis": 1,
    "execution_context_id": "a3b59e1f-70b5-43ee-8fc6-fb9e25d4ab16",
    "cell_id": "0f23a8bc14b649bdbeb003e533fea0a3",
    "deepnote_cell_type": "code"
   },
   "source": "prog = MathematicalProgram()\n\nx = prog.NewContinuousVariables(3)\n\nprog.AddCost(2 * x[0] ** 2 + x[1] ** 2 + 4 * x[2] ** 2)\nprog.AddConstraint(eq(np.array([[1, 2, 3], [2, 7, 4]]).dot(x), [1, 1]))\nprog.AddConstraint(le(x, 0.35 * np.ones(3)))\nprog.AddConstraint(ge(x, -0.35 * np.ones(3)))\n\n# prog.AddBoundingBoxConstraint(-0.35*np.ones(3), 0.35*np.ones(3), x)\n\nresult = Solve(prog)\n\n# 6. Get the solution\nif result.is_success():\n    print(\"Solution: \" + str(result.GetSolution()))\n\nresult_submission = result.GetSolution()",
   "block_group": "586256c078e5467fada85eba7a01e5b8",
   "execution_count": 5,
   "outputs": [
    {
     "name": "stdout",
     "text": "Solution: [ 0.15343917 -0.1005291   0.34920635]\n",
     "output_type": "stream"
    }
   ],
   "outputs_reference": "dbtable:cell_outputs/538c8cef-2173-4ec8-b654-2999f16fee79",
   "content_dependencies": null
  },
  {
   "cell_type": "markdown",
   "metadata": {
    "cell_id": "fc1a265270504e16a2f0da992e5295f3",
    "deepnote_cell_type": "markdown"
   },
   "source": "Below is our autograder where you can check the correctness of your implementation.",
   "block_group": "f1ff8c7c0d574facb59accc5cb6a857d"
  },
  {
   "cell_type": "code",
   "metadata": {
    "source_hash": "743ee26e",
    "execution_start": 1757697597441,
    "execution_millis": 576,
    "execution_context_id": "a3b59e1f-70b5-43ee-8fc6-fb9e25d4ab16",
    "cell_id": "d38edb495d174d999f0eb3928c9b826f",
    "deepnote_cell_type": "code"
   },
   "source": [
    "from manipulation.exercises.grader import Grader\n",
    "from manipulation.exercises.pick.test_simple_qp import TestSimpleQP\n",
    "\n",
    "Grader.grade_output([TestSimpleQP], [locals()], \"results.json\")\n",
    "Grader.print_test_results(\"results.json\")"
   ],
   "block_group": "1a364374ae364226ad1184537a7dd453",
   "execution_count": 6,
   "outputs": [
    {
     "name": "stdout",
     "text": "Total score is 4/4.\n\nScore for Test Simple QP problem is 4/4.\n",
     "output_type": "stream"
    }
   ],
   "outputs_reference": "dbtable:cell_outputs/48a29fe1-7734-4a4c-adf3-f61545cdd970",
   "content_dependencies": null
  },
  {
   "cell_type": "code",
   "metadata": {
    "source_hash": "d154367e",
    "execution_start": 1757697598071,
    "execution_millis": 0,
    "execution_context_id": "a3b59e1f-70b5-43ee-8fc6-fb9e25d4ab16",
    "cell_id": "4309cb84f7bf46e2b9908b08ec48c119",
    "deepnote_cell_type": "code"
   },
   "source": "result.get_solver_id().name()",
   "block_group": "e3f4d9cd94d14ba390737e06787a59e3",
   "execution_count": 7,
   "outputs": [
    {
     "output_type": "execute_result",
     "execution_count": 7,
     "data": {
      "text/plain": "'Clarabel'"
     },
     "metadata": {}
    }
   ],
   "outputs_reference": "dbtable:cell_outputs/2fa099d1-b407-4dd3-b54a-9f57bafee999",
   "content_dependencies": null
  },
  {
   "cell_type": "markdown",
   "metadata": {
    "id": "zPmeRLtJk410",
    "colab_type": "text",
    "cell_id": "a5fb20fb30aa459db306e6e3e0a930ee",
    "deepnote_cell_type": "markdown"
   },
   "source": "## VERIFICATION IN GRADESCOPE\n\n**Prerequisites:** You must complete ALL the TODOs above before these verification exercises will work!\n\n**Instructions:** Implement the exercises below and upload your solutions to Gradescope\n\n",
   "block_group": "1656d31c8dfb4d59a32f767eff5df453"
  },
  {
   "cell_type": "markdown",
   "metadata": {
    "cell_id": "c517d105eb244818a574d360413e8c17",
    "deepnote_cell_type": "markdown"
   },
   "source": "## Verification 1: QP Solution\n\n**Question:** What is the solution to the optimization problem you implemented? Put your answer in gradescope. Give your answer to 4 decimal places.",
   "block_group": "91a129a968574d3eab4677d67a039e33"
  },
  {
   "cell_type": "markdown",
   "source": "<a style='text-decoration:none;line-height:16px;display:flex;color:#5B5B62;padding:10px;justify-content:end;' href='https://deepnote.com?utm_source=created-in-deepnote-cell&projectId=0269f5af-c538-4d6b-8f80-531ddf560db1' target=\"_blank\">\n<img alt='Created in deepnote.com' style='display:inline;max-height:16px;margin:0px;margin-right:7.5px;' src='data:image/svg+xml;base64,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' > </img>\nCreated in <span style='font-weight:600;margin-left:4px;'>Deepnote</span></a>",
   "metadata": {
    "created_in_deepnote_cell": true,
    "deepnote_cell_type": "markdown"
   }
  }
 ],
 "nbformat": 4,
 "nbformat_minor": 0,
 "metadata": {
  "deepnote_notebook_id": "254d7eb2be0d4a32a848305352269d83"
 }
}